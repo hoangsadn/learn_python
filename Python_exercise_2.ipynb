{
  "nbformat": 4,
  "nbformat_minor": 0,
  "metadata": {
    "colab": {
      "name": "Python_exercise_2.ipynb",
      "provenance": [],
      "collapsed_sections": [],
      "authorship_tag": "ABX9TyOefCJwYyEJX47VLjeDhZsm",
      "include_colab_link": true
    },
    "kernelspec": {
      "name": "python3",
      "display_name": "Python 3"
    }
  },
  "cells": [
    {
      "cell_type": "markdown",
      "metadata": {
        "id": "view-in-github",
        "colab_type": "text"
      },
      "source": [
        "<a href=\"https://colab.research.google.com/github/hoangsadn/learn_python/blob/main/Python_exercise_2.ipynb\" target=\"_parent\"><img src=\"https://colab.research.google.com/assets/colab-badge.svg\" alt=\"Open In Colab\"/></a>"
      ]
    },
    {
      "cell_type": "markdown",
      "metadata": {
        "id": "hEk-GgTBeCVj"
      },
      "source": [
        "KÉO CẮT GIẤY\n",
        "\n",
        "Để trang trí phòng phục vụ tổ chức sinh nhật cho một người bạn Alice lấy một tờ giấy màu thủ công kẻ ô vuông kích thước n×m (n hàng và m cột), cắt thành hình lò xo xoắn theo hướng phải sang trái và có độ rộng của đường bằng 1:\n",
        "\n",
        "Bắt đầu từ biên phải cột 0 cắt lên trên cho đến khi cách lề trên một ô,\n",
        "Cắt sang phải theo đường biên dưới cho đến khi cách lề phải một ô,\n",
        "Cắt xuống dưới, rồi sang trái, sau đó lên trên,  . . . để có băng giấy độ rộng 1 ô,\n",
        "Quá trình cắt sẽ dừng khi không cách cắt tiếp mà không làm đứt băng giấy.\n",
        "Hãy tính tổng độ dài đường cắt theo đơn vị ô.\n",
        "\n",
        "Dữ liệu: Vào từ thiết bị nhập chuẩn gồm một dòng chứa 2 số nguyên n và m (2 ≤ n, m ≤ 109).\n",
        "\n",
        "Kết quả: Đưa ra thiết bị xuất chuẩn một số nguyên – độ dài đường cắt.\n",
        "\n",
        "Ví dụ:\n",
        "\n",
        "INPUT\n",
        "\n",
        " \n",
        "\n",
        "OUTPUT\n",
        "\n",
        "3 4\n",
        "\n",
        " \n",
        "\n",
        "6"
      ]
    },
    {
      "cell_type": "code",
      "metadata": {
        "id": "eooFqfboc-Ot"
      },
      "source": [
        "a,b  = map(int, input().split())\n",
        "\n",
        "sum1 = 0;\n",
        "sum2 = 0;\n",
        "if a==b and a==2:\n",
        "  print(\"1\")\n",
        "elif a==b: \n",
        " print((a-1)*(a-1))\n",
        "elif a==1 or b==1:\n",
        "  print(\"0\")\n",
        "else:\n",
        "  sum1 = int(a*(1+a)/2)\n",
        "  res = a*a + b*(a-1) - 2*sum1 +1\n",
        "  if res <0 : res = 0\n",
        "  print (res)"
      ],
      "execution_count": null,
      "outputs": []
    },
    {
      "cell_type": "markdown",
      "metadata": {
        "id": "86GNlWOKdFqj"
      },
      "source": [
        "Số may mắn là các số nguyên dương chỉ chứa các chữ số là 4 hoặc 7.\n",
        "\n",
        "Bình thích sự may mắn, tuy nhiên số lượng số may mắn không nhiều. Chính vì thế, Bình định nghĩa ra một loại số mới, gọi là số gần may mắn với điều kiện số chữ số may mắn trong số đó là một số may mắn.\n",
        "\n",
        "INPUT\n",
        "Một số nguyên dương n (n <= 1018).\n",
        "\n",
        "OUTPUT\n",
        "In ra YES nếu số đó là một số gần may mắn, ngược lại in NO.\n",
        "\n",
        "VÍ DỤ\n",
        "INPUT\tOUTPUT\n",
        "\n",
        "\n",
        "1000\tNO\n",
        "\n",
        "\n",
        "74734747\tYES\n",
        "\n",
        "0\tNO"
      ]
    },
    {
      "cell_type": "code",
      "metadata": {
        "id": "_XxIHfTBdOw7"
      },
      "source": [
        "s = input()\n",
        "four = s.count(\"4\", 0, len(s))\n",
        "seven = s.count(\"7\",0, len(s))\n",
        "if (four+seven == 4 or four+seven ==7 ):\n",
        "  print(\"YES\")\n",
        "else:\n",
        "  print(\"NO\")"
      ],
      "execution_count": null,
      "outputs": []
    },
    {
      "cell_type": "markdown",
      "metadata": {
        "id": "ZRZDUVTmdStz"
      },
      "source": [
        "Một phương trình đúng (PTĐ) được định nghĩa là phương trình có dạng \n",
        "a\n",
        "+\n",
        "b\n",
        "=\n",
        "c\n",
        ", trong đó \n",
        "a\n",
        ",\n",
        "b\n",
        ",\n",
        "c\n",
        ">\n",
        "0\n",
        ".\n",
        "\n",
        "Ví dụ: phương trình \n",
        "2\n",
        "+\n",
        "2\n",
        "=\n",
        "4\n",
        " (| | + | | = | | | |) và \n",
        "1\n",
        "+\n",
        "2\n",
        "=\n",
        "3\n",
        " (| + | | = | | |) là PTĐ.\n",
        "\n",
        "Còn \n",
        "1\n",
        "+\n",
        "2\n",
        "=\n",
        "4\n",
        " (| + | | = | | | |), \n",
        "2\n",
        "+\n",
        "2\n",
        "=\n",
        "3\n",
        " (| | + | | = | | |) và \n",
        "0\n",
        "+\n",
        "1\n",
        "=\n",
        "1\n",
        " ( + | = |) không phải là PTĐ.\n",
        "\n",
        "Bây giờ bạn có \n",
        "n\n",
        " que diêm. Bạn muốn sử dụng tất cả số que diêm đó để xếp thành một PTĐ. Không may thay, có một số trường hợp bạn không thể xếp được nếu bạn dùng tất cả \n",
        "n\n",
        " que diêm. Nhưng nếu bạn ra chợ mua thêm \n",
        "k\n",
        " que diêm nữa thì bạn có thể xếp được.\n",
        "\n",
        "Ví dụ, \n",
        "n\n",
        "=\n",
        "2\n",
        ", bạn cần mua thêm 2 cây diêm nữa để xếp thành | + | = | |.\n",
        "\n",
        "n\n",
        "=\n",
        "5\n",
        ", bạn cần mua thêm 1 cây diêm nữa để xếp thành | | + | = | | |.\n",
        "\n",
        "                             \n",
        "\n",
        "Nhiệm vụ của bạn là tìm ra số que diêm cần mua ít nhất để có thể xếp thành PTĐ.\n",
        "\n",
        "INPUT:\n",
        "\n",
        "Dòng đầu tiên là một số nguyên \n",
        "q\n",
        " \n",
        "(\n",
        "1\n",
        "≤\n",
        "q\n",
        "≤\n",
        "100\n",
        ")\n",
        " — số lượng testcase. \n",
        "\n",
        "q\n",
        " dòng tiếp theo, mỗi dòng là một số nguyên \n",
        "n\n",
        " \n",
        "(\n",
        "2\n",
        "≤\n",
        "n\n",
        "≤\n",
        "10\n",
        "9\n",
        ")\n",
        " — số lượng que diêm có ban đầu.\n",
        "\n",
        "OUTPUT:\n",
        "\n",
        "Với mỗi testcase xuất ra trên một dòng số lượng que diêm tối thiểu cần phải mua để có thể xếp thành PTĐ.\n",
        "\n",
        "VÍ DỤ:\n",
        "\n",
        "INPUT\n",
        "\n",
        "OUTPUT\n",
        "\n",
        "4\n",
        "2\n",
        "5\n",
        "8\n",
        "11\t\n",
        " \n",
        "2\n",
        "1\n",
        "0\n",
        "1"
      ]
    },
    {
      "cell_type": "code",
      "metadata": {
        "id": "3eN_rIsjdaSL"
      },
      "source": [
        "def min_k(n):\n",
        "  if n <= 2:\n",
        "    return 4 - n\n",
        "  else:\n",
        "    if n % 2 == 0:\n",
        "      return 0\n",
        "    else:\n",
        "      return 1\n",
        "result = []\n",
        "q = int(input())\n",
        "for i in range(q):\n",
        "  n = int(input())\n",
        "  result.append(min_k(n))\n",
        "for i in result:\n",
        "  print(i)"
      ],
      "execution_count": null,
      "outputs": []
    },
    {
      "cell_type": "markdown",
      "metadata": {
        "id": "ZwMSA168ddqq"
      },
      "source": [
        "Một rạp phim có diện tích sàn là n x m. Nhân lễ kỉ niệm, người ta cần lót gạch cho sàn của rạp bằng các viên gạch hình vuông với cạnh có kích thước là a. Xác định số lượng viên gạch cần ít nhất để phủ toàn bộ sàn, biết rằng diện tích toàn bộ số gạch được dùng có thể lớn hơn diện tích thực tế của sàn và các viên gạch phải được giữ nguyên, không được cắt ra.\n",
        "\n",
        "INPUT\n",
        "Ba số nguyên dương n, m, a\n",
        "\n",
        "OUTPUT\n",
        "Số lượng gạch ít nhất cần để lót sàn.\n",
        "\n",
        "VÍ DỤ\n",
        "INPUT\tOUTPUT\n",
        "6 6 4\n",
        "\n",
        "4\n",
        "\n"
      ]
    },
    {
      "cell_type": "code",
      "metadata": {
        "id": "FcC7MIl0dgFC"
      },
      "source": [
        "import math\n",
        "\n",
        "a,b,c  = map(int, input().split())\n",
        "tmp1 = math.ceil(a/c) * math.ceil(b/c)\n",
        "res = math.ceil((a*b)/(c*c))\n",
        "\n",
        "if tmp1 > res:\n",
        "  print (tmp1)\n",
        "else:\n",
        "  print (res) "
      ],
      "execution_count": null,
      "outputs": []
    },
    {
      "cell_type": "markdown",
      "metadata": {
        "id": "yXQrI5L5dlRK"
      },
      "source": [
        "An và Bình rất thích ăn dưa hấu vì thế họ đi ra chợ chọn mua một trái to và chín nhất.  Về đến nhà, một vấn đề nảy sinh đó là việc chia phần trái dưa hấu cho cả 2, không chỉ thế, do 2 người bạn chỉ thích những con số chẵn, vì thế cần chia quả dưa hấu làm sao cho mỗi phần có khối lượng là một con số chẵn. Hãy giúp An và Bình kiểm tra xem có thể chia quả dưa hấu này hay không.\n",
        "\n",
        "INPUT\n",
        "Một số nguyên không âm\n",
        "\n",
        "OUTPUT\n",
        "Xuất YES nếu có thể chia, ngược lại NO\n",
        "\n",
        "VÍ DỤ\n",
        "INPUT\tOUTPUT\n",
        "8\n",
        "\n",
        "YES\n",
        "\n"
      ]
    },
    {
      "cell_type": "code",
      "metadata": {
        "id": "-lzV8iokdo1j"
      },
      "source": [
        "a = (int)(input())\n",
        "if a ==2:\n",
        "  print(\"NO\")\n",
        "elif a % 2 ==0:\n",
        "    print (\"YES\")\n",
        "else:\n",
        "    print(\"NO\")"
      ],
      "execution_count": null,
      "outputs": []
    },
    {
      "cell_type": "markdown",
      "metadata": {
        "id": "kerF3jeodsLc"
      },
      "source": [
        "Kiểm tra Số Armstrong (Số Armstrong là số có K chữ số và tổng lũy thừa bậc K của các chữ số bằng chính nó)\n",
        "\n",
        "INPUT\n",
        "Một số nguyên không âm\n",
        "\n",
        "OUTPUT\n",
        "Xuất True nếu số nhập vào là số Armstrong, ngược lại False\n",
        "\n",
        "VÍ DỤ\n",
        "INPUT\tOUTPUT\n",
        "153\n",
        "\n",
        "True\n",
        "\n"
      ]
    },
    {
      "cell_type": "code",
      "metadata": {
        "id": "ejaKMRP9dwus"
      },
      "source": [
        "a = str(input())\n",
        "num = int(a)\n",
        "b = []\n",
        "sum = 0\n",
        "res= 0 \n",
        "for i in range(len(a)):\n",
        "  res= res+1\n",
        "  k = int(a[i])\n",
        "  b.append(int(k))\n",
        "\n",
        "for i in range(res):\n",
        "  tmp =1\n",
        "  for j in range(res):\n",
        "    tmp = tmp*b[i]\n",
        "  sum = sum + tmp\n",
        "\n",
        "if sum == num:\n",
        "  print(\"True\")\n",
        "else:\n",
        "  print(\"False\")"
      ],
      "execution_count": null,
      "outputs": []
    }
  ]
}