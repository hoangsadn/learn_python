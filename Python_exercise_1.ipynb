{
  "nbformat": 4,
  "nbformat_minor": 0,
  "metadata": {
    "colab": {
      "name": "Python exercise  1.ipynb",
      "provenance": [],
      "authorship_tag": "ABX9TyNYYdmBu45W6ScxV5gTVOIh",
      "include_colab_link": true
    },
    "kernelspec": {
      "name": "python3",
      "display_name": "Python 3"
    }
  },
  "cells": [
    {
      "cell_type": "markdown",
      "metadata": {
        "id": "view-in-github",
        "colab_type": "text"
      },
      "source": [
        "<a href=\"https://colab.research.google.com/github/hoangsadn/learn_python/blob/main/Python_exercise_1.ipynb\" target=\"_parent\"><img src=\"https://colab.research.google.com/assets/colab-badge.svg\" alt=\"Open In Colab\"/></a>"
      ]
    },
    {
      "cell_type": "markdown",
      "metadata": {
        "id": "UBk3KaiDZ4si"
      },
      "source": [
        "Bình vừa mua xách tay một cái nhiệt kế hồng ngoại cực xịn cực chính xác chỉ mỗi tội nó hiển thị nhiệt độ theo thang đo độ F - Farenheit. Hãy giúp Bình đổi qua độ C - Celsius và độ K - Kelvin\n",
        "\n",
        "INPUT\n",
        "Một con số - nhiệt độ theo thang F\n",
        "\n",
        "OUTPUT\n",
        "Hai con số - nhiệt độ theo thang C và thang K\n",
        "\n",
        "VÍ DỤ: \n",
        "INPUT\t\n",
        "658.4\n",
        "OUTPUT\n",
        "\n",
        "348 621.15\n",
        "     \n",
        "INPUT\t\n",
        "472.6   \n",
        "\n",
        "OUTPUT\n",
        "\n",
        "244.778 517.928\n",
        "\n"
      ]
    },
    {
      "cell_type": "code",
      "metadata": {
        "id": "3p_WVq6ZZyNu"
      },
      "source": [
        "from decimal import *\n",
        "f = float(input())\n",
        "c = (f - 32)/1.8\n",
        "k = c + 273.15\n",
        "getcontext().prec =6\n",
        "print(Decimal(c).normalize(),Decimal(k).normalize())"
      ],
      "execution_count": null,
      "outputs": []
    },
    {
      "cell_type": "markdown",
      "metadata": {
        "id": "dLfN1hwwangJ"
      },
      "source": [
        "Tìm ra áp suất chất lỏng/khí và cách đo đạt chúng là một vấn đề nghiên cứu vật lý thực nghiệm từng làm đau đầu nhiều nhà khoa học thời trung cổ. Đã có nhiều nhà khoa học khác nhau đề xuất các thang đo khác nhau. Tuy nhiên ngày nay một đơn vị đo áp suất phổ thông mà dễ hiểu là tính lực tác động (theo khối lượng) chia cho diện tích. Khổ nổi trong hệ đo lường quốc tế (SI) và hệ đo Imperial phổ biến ở Mỹ người ta đo khối lượng và áp suất bằng cách đơn vị khác nhau. Bạn Bình vừa mua một con mô-tô phân khối lớn hàng nhập nguyên chiếc từ Mỹ về, tài liệu hướng dẫn của xe ghi áp suất phù hợp khi bơm xe bằng đơn vị PSI (Pound / square inches - 1 pound lực trên một inch vuông). Còn ống bơm của Bình tích hợp đồng hồ đo áp suất bằng đơn vị kg/cm2 (1 kilogram lực trên một centimét vuông).\n",
        "\n",
        "Biết: 1 pound = 0.453592 kg\n",
        "\n",
        "và 1 inch = 2,54 cm\n",
        "\n",
        "Viết công thức giúp Bình đổi PSI sang kg/cm2\n",
        "\n",
        "INPUT\n",
        "Một con số duy nhất theo đơn vị PSI\n",
        "\n",
        "OUTPUT\n",
        "Một con số ương ứng theo đơn vị kg/cm2\n",
        "\n",
        "VÍ DỤ\n",
        "INPUT\tOUTPUT\n",
        "\n",
        "15\t\n",
        "1.0546\n",
        "\n",
        "\n",
        "2018\t\n",
        "141.879"
      ]
    },
    {
      "cell_type": "code",
      "metadata": {
        "id": "3H7MkhEtaaHk"
      },
      "source": [
        "from decimal import *\n",
        "psi = float(input())\n",
        "si = (psi*0.453592) / (2.54 * 2.54)\n",
        "getcontext().prec =6\n",
        "print(Decimal(si).normalize())"
      ],
      "execution_count": null,
      "outputs": []
    },
    {
      "cell_type": "markdown",
      "metadata": {
        "id": "_P1pOnkTa6CI"
      },
      "source": [
        "Gà và Chó\n",
        "\n",
        "Vừa gà vừa chó\n",
        "\n",
        "Bó lại cho tròn\n",
        "\n",
        "xxx con\n",
        "\n",
        "yy chân chẵn\n",
        "\n",
        "Hãy xác định số con gà và số con chó thỏa mãn yêu cầu.\n",
        "\n",
        "Dữ liệu: Vào từ thiết bị nhập chuẩn gồm 1 dòng ghi 2 số nguyên xxx và yy (2≤ xxx, yy ≤ 109)\n",
        "\n",
        "Kết quả: Đưa ra thiết bị xuất chuẩn một dòng 2 số nguyên số gà và số chó tìm được.\n",
        "\n",
        "Dữ liệu luôn bảo đảm có kết quả.\n",
        "\n",
        "Ví dụ:\n",
        "\n",
        "INPUT\n",
        "\n",
        " \n",
        "\n",
        "OUTPUT\n",
        "\n",
        "36 100\t\n",
        " \n",
        "\n",
        "22 14"
      ]
    },
    {
      "cell_type": "code",
      "metadata": {
        "id": "_LWPAoxibEI_"
      },
      "source": [
        "a,b = map(int, input().split())\n",
        "x = (4*a - b) // 2\n",
        "y = a - x\n",
        "print(x, y)"
      ],
      "execution_count": null,
      "outputs": []
    },
    {
      "cell_type": "markdown",
      "metadata": {
        "id": "-3csc7z5bEyQ"
      },
      "source": [
        "Nhận dạng tam giác\n",
        "\n",
        "Viết chương trình nhập vào 3 số thực. Hãy cho biết đó có phải là độ dài 3 cạnh 1 tam giác hay không? Nếu phải thì đó là loại nào trong 4 loại sau: tam giác thường, cân, đều, vuông.\n",
        "\n",
        "Nếu là tam giác tính diện tích tam giác.\n",
        "\n",
        "INPUT:\n",
        "\n",
        "Dòng đầu tiên là độ dài cạnh 1.\n",
        "\n",
        "Dòng thứ hai là độ dài cạnh 2.\n",
        "\n",
        "Dòng thứ ba là độ dài cạnh 3.\n",
        "\n",
        "OUTPUT\n",
        "\n",
        "Định dạng như ví dụ minh họa. Diện tích làm tròn 02 chữ số sau dấu thập phân.\n",
        "\n",
        "VÍ DỤ:\n",
        "\n",
        "INPUT\n",
        "\n",
        "OUTPUT\n",
        "\n",
        "2\n",
        "\n",
        "3\n",
        "\n",
        "4\n",
        "\n",
        "Tam giac thuong, dien tich = 2.9\n",
        "\n",
        "3\n",
        "\n",
        "4\n",
        "\n",
        "5\n",
        "\n",
        "Tam giac vuong, dien tich = 6\n",
        "\n",
        "1\n",
        "\n",
        "2\n",
        "\n",
        "3\n",
        "\n",
        "Khong phai tam giac"
      ]
    },
    {
      "cell_type": "code",
      "metadata": {
        "id": "8UU1gB7CbJFg"
      },
      "source": [
        "from  math import sqrt\n",
        "a = int(input())\n",
        "b = int(input())\n",
        "c = int(input())\n",
        "\n",
        "if a<b+c and b<a+c and c<a+b:\n",
        "    #Tinh dien tich\n",
        "    p = (a+b+c)/2\n",
        "    s = round(sqrt(p*(p-a)*(p-b)*(p-c)),2)\n",
        "    if s == int(s):\n",
        "        s = int(s)\n",
        "    #Kiem tra tam giac\n",
        "    if a*a==b*b+c*c or b*b==a*a+c*c or c*c== a*a+b*b:\n",
        "        print(\"Tam giac vuong, dien tich = {}\".format(s))\n",
        "    elif a==b==c:\n",
        "        print(\"Tam giac deu, dien tich = {}\".format(s))\n",
        "    elif a==b or b==c or a==c:\n",
        "        print(\"Tam giac can, dien tich = {}\".format(s))\n",
        "    else:\n",
        "        print(\"Tam giac thuong, dien tich = {}\".format(s))\n",
        "else:\n",
        "    print(\"Khong phai tam giac\")"
      ],
      "execution_count": null,
      "outputs": []
    },
    {
      "cell_type": "markdown",
      "metadata": {
        "id": "If7FMxX3bMQf"
      },
      "source": [
        "BÀI KIỂM TRA\n",
        "\n",
        "Alice và Bob là đôi bạn thân trong lớp và thường giúp nhau trong giờ học. Hôm nay sẽ có tiết kiểm tra toán và như mọi khi – sẽ có k đề khác nhau. Lớp học có n học sinh. Các bàn trong lớp xếp thành một hàng dọc, mỗi bàn 2 người ngồi. Vị trí bên trái của bàn đánh số là 1, vị trí bên phải – đánh số 2. Đề bài được phát bắt đầu từ vị trí 1 của bàn 1 rồi đến vị trí 2 của bàn 1, tiếp theo là vị trí 1 của bàn 2, rồi tới vị trí 2 của bàn 2, . . . lần lượt các đề 1, đề 2, đề 3, . . . cho tới đề k rồi lại quay lại đề 1, đề 2, . . . cho tới khi tất cả các học sinh đều nhận được đề.\n",
        "\n",
        "Alice đến trước và ngồi vào vị trí quen thuộc của mình: hàng p và vị trí q. Bob đến sau và muốn ngồi vào nơi sẽ nhận được cùng đề với Alice và ở dãy bàn gần với dãy bàn của Alice nhất. Nếu có 2 cách ngồi thì Bob sẽ chọn bàn ở phía trước của Alice.\n",
        "\n",
        "Hãy xác định bàn u và vị trí v trong bàn nơi Bob cần phải ngồi. Nếu không có cách ngồi thỏa mãn thì đưa ra một số -1.\n",
        "\n",
        "Dữ liệu: Vào từ thiết bị nhập chuẩn:\n",
        "\n",
        "Dòng đầu tiên chứa một số nguyên n (2 ≤ n ≤ 109),\n",
        "Dòng thứ 2 chứa số nguyên k (2 ≤ k ≤ n),\n",
        "Dòng thứ 3 chứa số nguyên p (1 ≤ p ≤ (n+1)/2),\n",
        "Dòng thứ 4 chứa số nguyên q (1 ≤ q ≤ 2).\n",
        "Kết quả: Đưa ra thiết bị xuất chuẩn một dòng 2 số nguyên u và v tìm được hoặc số -1 nếu không có cách ngồi thỏa mãn điều kiện đã nêu.\n",
        "\n",
        "Ví dụ:\n",
        "\n",
        "INPUT\n",
        "\n",
        " \n",
        "\n",
        "OUTPUT\n",
        "\n",
        "25\n",
        "\n",
        "2\n",
        "\n",
        "1\n",
        "\n",
        "2\n",
        "\n",
        " \n",
        "\n",
        "2 2"
      ]
    },
    {
      "cell_type": "code",
      "metadata": {
        "id": "QEa8CPjebSI4"
      },
      "source": [
        "n = int(input())\n",
        "k = int(input())\n",
        "p = int(input())\n",
        "q = int(input())\n",
        "\n",
        "ith = (p-1) * 2 + (q-1)\n",
        "\n",
        "before = ith - k\n",
        "after = ith + k\n",
        "\n",
        "if before >= 0:\n",
        "    print(before//2+1, before%2+1)\n",
        "elif after <= n-1:\n",
        "    print(after//2+1, after%2+1)\n",
        "else:\n",
        "    print(-1)"
      ],
      "execution_count": null,
      "outputs": []
    },
    {
      "cell_type": "markdown",
      "metadata": {
        "id": "YpExN0AEbfIn"
      },
      "source": [
        "ĐƯỜNG SẮT TRÊN CAO\n",
        "Thành phố đang xây dựng tuyến đường sắt trên cao phục vụ giao thông nội đô. Tuyến đường sẽ có k+1 ga đánh số từ 0 đến k. Tàu chạy suốt ngày đêm, từ ga 0 đến ga k và quay lại. Thời gian đi từ một ga tới ga kế tiếp là 1 phút, thời gian dừng ở mỗi ga là không đáng kể. Hệ thống giao thông này không những nhanh, chuẩn xác về thời gian mà còn là một phương tiện tuyệt vời để ngắm thành phố.\n",
        "\n",
        "BHL của UIT quyết định sẽ tặng cho tất cả tham gia lớp Python online mỗi bạn một vé đi tàu miễn phí trong năm học.\n",
        "\n",
        "Minh rất háo hức với thông báo này và quyết tâm phải giành được một vé. Phần lớn thời gian rảnh rỗi trong ngày Minh đều dùng để rèn luyện lập trình Python, còn ban đêm là thời gian của những giấc mơ đẹp. Minh thấy mình bước lên tàu ở ga số 0, ngồi cạnh cửa sổ say sưa ngắm nhìn quang cảnh thành phố từ trên cao. Thời gian trôi đi khá nhanh. Đồng hồ cho biết Minh đã ngồi trên tàu t phút và Minh quyết định xuống tàu . . .\n",
        "\n",
        "Chuông đồng hồ vang lên, Minh tỉnh giấc, vội vàng đi đánh răng, rửa mặt, chuẩn bị đi học. Trên đường tới trường Minh vẫn nghĩ về giấc mơ đêm qua và không thể nhớ được mình đã xuống ở ga số mấy.\n",
        "\n",
        "Hãy xác định ga mà Minh đã xuống trong giấc mơ sắp thành hiện thực của mình.\n",
        "\n",
        "Dữ liệu: Vào từ thiết bị nhập chuẩn gồm một dòng chứa 2 số nguyên k và t (0 < k, t ≤ 109)\n",
        "\n",
        "Kết quả: Đưa ra thiết bị xuất chuẩn một số nguyên – ga xác định được.\n",
        "\n",
        "Ví dụ:\n",
        "\n",
        "INPUT\n",
        "\n",
        "OUTPUT\n",
        "\n",
        "\n",
        "5 8\n",
        "\n",
        " \n",
        "\n",
        "2"
      ]
    },
    {
      "cell_type": "code",
      "metadata": {
        "id": "q-eU85jQblF-"
      },
      "source": [
        "k,t  = map(int, input().split())\n",
        "if (t // k) % 2 == 0:\n",
        "    print(t % k)\n",
        "else:\n",
        "    print(k - t % k)"
      ],
      "execution_count": null,
      "outputs": []
    },
    {
      "cell_type": "markdown",
      "metadata": {
        "id": "Gk4o-z6nblwy"
      },
      "source": [
        "Viết chương trình tính tổng các ước số thực sự của một số nguyên dương.\n",
        "\n",
        "INPUT\n",
        "\n",
        "Số nguyên dương n giá trị không quá 1 tỷ.\n",
        "\n",
        "OUTPUT\n",
        "\n",
        "Tổng các ước số của n (không kể n)\n",
        "\n",
        "Ví dụ\n",
        "\n",
        "Input\n",
        "\n",
        "Output\n",
        "\n",
        "4\n",
        "\n",
        "3\n",
        "\n",
        "5\n",
        "\n",
        "1\n",
        "\n",
        "6\n",
        "\n",
        "6\n",
        "\n",
        "8\n",
        "\n",
        "7\n",
        "\n",
        "27\n",
        "\n",
        "13\n",
        "\n",
        " "
      ]
    },
    {
      "cell_type": "code",
      "metadata": {
        "id": "_FB7njylbstW"
      },
      "source": [
        "n = int(input())\n",
        "s = 0\n",
        "for i in range(1,n//2+1):\n",
        "  if not n%i:\n",
        "    s = s+i\n",
        "\n",
        "print (s)"
      ],
      "execution_count": null,
      "outputs": []
    },
    {
      "cell_type": "markdown",
      "metadata": {
        "id": "_SRIeSmAbtM_"
      },
      "source": [
        "Nhập vào số nguyên x sao cho 1 ≤ x ≤ 30. Nếu x không thỏa điều kiện, chương trình xuất ra màn hình thông báo “So <x> khong nam trong khoang [1,30].”. Nếu x nằm trong đoạn [1,30], chương trình xuất ra màn hình số Fibonacci thứ x.\n",
        "\n",
        "Ví dụ:\n",
        "\n",
        "Input\n",
        "\n",
        "Output\n",
        "\n",
        "-6\n",
        "\n",
        "So -6 khong nam trong khoang [1,30].\n",
        "\n",
        "6\n",
        "\n",
        "8\n",
        "\n"
      ]
    },
    {
      "cell_type": "code",
      "metadata": {
        "id": "jRBl7ihqbyPe"
      },
      "source": [
        "n = int(input())\n",
        "f1 = f2 = f= 1\n",
        "if 1 <= n <= 30:\n",
        "    for i in range(n-2):\n",
        "        f = f1 + f2\n",
        "        f1 = f2\n",
        "        f2 = f\n",
        "    print(f)\n",
        "else:\n",
        "    print(\"So {} khong nam trong khoang [1,30].\".format(n))"
      ],
      "execution_count": null,
      "outputs": []
    }
  ]
}